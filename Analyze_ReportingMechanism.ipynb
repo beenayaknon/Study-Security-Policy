{
 "cells": [
  {
   "cell_type": "code",
   "execution_count": 2,
   "id": "17816528",
   "metadata": {},
   "outputs": [],
   "source": [
    "import pandas as pd\n",
    "import json\n",
    "from statistics import median"
   ]
  },
  {
   "cell_type": "code",
   "execution_count": null,
   "id": "7abdb794",
   "metadata": {},
   "outputs": [],
   "source": [
    "# Count the number of projects for each Reporting mechanism\n",
    "with open('AllPackages679.json', 'r') as file:\n",
    "    data = json.load(file)\n",
    "\n",
    "reporting_mechanism_counts = {}\n",
    "total_valid_projects = 0\n",
    "\n",
    "for entry in data:\n",
    "    mechanism = entry.get(\"SecurityPolicy_reporting_mechanism\")\n",
    "    if not mechanism:\n",
    "        continue\n",
    "    reporting_mechanism_counts[mechanism] = reporting_mechanism_counts.get(mechanism, 0) + 1\n",
    "    total_valid_projects += 1\n",
    "\n",
    "\n",
    "print(\"\\nNumber of projects for each SecurityPolicy_reporting_mechanism:\")\n",
    "for mechanism, count in reporting_mechanism_counts.items():\n",
    "    percentage = (count / total_valid_projects) * 100\n",
    "    print(f\"- {mechanism}: {count} projects ({percentage:.2f}%)\")\n",
    "print(f\"\\nTotal projects: {total_valid_projects}\")\n"
   ]
  }
 ],
 "metadata": {
  "kernelspec": {
   "display_name": "base",
   "language": "python",
   "name": "python3"
  },
  "language_info": {
   "codemirror_mode": {
    "name": "ipython",
    "version": 3
   },
   "file_extension": ".py",
   "mimetype": "text/x-python",
   "name": "python",
   "nbconvert_exporter": "python",
   "pygments_lexer": "ipython3",
   "version": "3.11.5"
  }
 },
 "nbformat": 4,
 "nbformat_minor": 5
}
